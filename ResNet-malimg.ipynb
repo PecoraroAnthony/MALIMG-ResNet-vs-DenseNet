{
 "cells": [
  {
   "cell_type": "markdown",
   "metadata": {},
   "source": [
    "# Install dependencies if not on system already (pip freeze)"
   ]
  },
  {
   "cell_type": "code",
   "execution_count": 1,
   "metadata": {},
   "outputs": [
    {
     "name": "stdout",
     "output_type": "stream",
     "text": [
      "Requirement already satisfied: GPUtil in /research2/ajpecoraro/miniconda3/lib/python3.12/site-packages (1.4.0)\n",
      "Requirement already satisfied: scikit-learn in /research2/ajpecoraro/miniconda3/lib/python3.12/site-packages (1.6.1)\n",
      "Requirement already satisfied: torch in /research2/ajpecoraro/miniconda3/lib/python3.12/site-packages (2.6.0)\n",
      "Requirement already satisfied: torchvision in /research2/ajpecoraro/miniconda3/lib/python3.12/site-packages (0.21.0)\n",
      "Requirement already satisfied: tensorboard in /research2/ajpecoraro/miniconda3/lib/python3.12/site-packages (2.19.0)\n",
      "Requirement already satisfied: numpy>=1.19.5 in /research2/ajpecoraro/miniconda3/lib/python3.12/site-packages (from scikit-learn) (2.2.4)\n",
      "Requirement already satisfied: scipy>=1.6.0 in /research2/ajpecoraro/miniconda3/lib/python3.12/site-packages (from scikit-learn) (1.15.2)\n",
      "Requirement already satisfied: joblib>=1.2.0 in /research2/ajpecoraro/miniconda3/lib/python3.12/site-packages (from scikit-learn) (1.4.2)\n",
      "Requirement already satisfied: threadpoolctl>=3.1.0 in /research2/ajpecoraro/miniconda3/lib/python3.12/site-packages (from scikit-learn) (3.6.0)\n",
      "Requirement already satisfied: filelock in /research2/ajpecoraro/miniconda3/lib/python3.12/site-packages (from torch) (3.18.0)\n",
      "Requirement already satisfied: typing-extensions>=4.10.0 in /research2/ajpecoraro/miniconda3/lib/python3.12/site-packages (from torch) (4.12.2)\n",
      "Requirement already satisfied: networkx in /research2/ajpecoraro/miniconda3/lib/python3.12/site-packages (from torch) (3.4.2)\n",
      "Requirement already satisfied: jinja2 in /research2/ajpecoraro/miniconda3/lib/python3.12/site-packages (from torch) (3.1.6)\n",
      "Requirement already satisfied: fsspec in /research2/ajpecoraro/miniconda3/lib/python3.12/site-packages (from torch) (2025.3.2)\n",
      "Requirement already satisfied: nvidia-cuda-nvrtc-cu12==12.4.127 in /research2/ajpecoraro/miniconda3/lib/python3.12/site-packages (from torch) (12.4.127)\n",
      "Requirement already satisfied: nvidia-cuda-runtime-cu12==12.4.127 in /research2/ajpecoraro/miniconda3/lib/python3.12/site-packages (from torch) (12.4.127)\n",
      "Requirement already satisfied: nvidia-cuda-cupti-cu12==12.4.127 in /research2/ajpecoraro/miniconda3/lib/python3.12/site-packages (from torch) (12.4.127)\n",
      "Requirement already satisfied: nvidia-cudnn-cu12==9.1.0.70 in /research2/ajpecoraro/miniconda3/lib/python3.12/site-packages (from torch) (9.1.0.70)\n",
      "Requirement already satisfied: nvidia-cublas-cu12==12.4.5.8 in /research2/ajpecoraro/miniconda3/lib/python3.12/site-packages (from torch) (12.4.5.8)\n",
      "Requirement already satisfied: nvidia-cufft-cu12==11.2.1.3 in /research2/ajpecoraro/miniconda3/lib/python3.12/site-packages (from torch) (11.2.1.3)\n",
      "Requirement already satisfied: nvidia-curand-cu12==10.3.5.147 in /research2/ajpecoraro/miniconda3/lib/python3.12/site-packages (from torch) (10.3.5.147)\n",
      "Requirement already satisfied: nvidia-cusolver-cu12==11.6.1.9 in /research2/ajpecoraro/miniconda3/lib/python3.12/site-packages (from torch) (11.6.1.9)\n",
      "Requirement already satisfied: nvidia-cusparse-cu12==12.3.1.170 in /research2/ajpecoraro/miniconda3/lib/python3.12/site-packages (from torch) (12.3.1.170)\n",
      "Requirement already satisfied: nvidia-cusparselt-cu12==0.6.2 in /research2/ajpecoraro/miniconda3/lib/python3.12/site-packages (from torch) (0.6.2)\n",
      "Requirement already satisfied: nvidia-nccl-cu12==2.21.5 in /research2/ajpecoraro/miniconda3/lib/python3.12/site-packages (from torch) (2.21.5)\n",
      "Requirement already satisfied: nvidia-nvtx-cu12==12.4.127 in /research2/ajpecoraro/miniconda3/lib/python3.12/site-packages (from torch) (12.4.127)\n",
      "Requirement already satisfied: nvidia-nvjitlink-cu12==12.4.127 in /research2/ajpecoraro/miniconda3/lib/python3.12/site-packages (from torch) (12.4.127)\n",
      "Requirement already satisfied: triton==3.2.0 in /research2/ajpecoraro/miniconda3/lib/python3.12/site-packages (from torch) (3.2.0)\n",
      "Requirement already satisfied: setuptools in /research2/ajpecoraro/miniconda3/lib/python3.12/site-packages (from torch) (75.8.0)\n",
      "Requirement already satisfied: sympy==1.13.1 in /research2/ajpecoraro/miniconda3/lib/python3.12/site-packages (from torch) (1.13.1)\n",
      "Requirement already satisfied: mpmath<1.4,>=1.1.0 in /research2/ajpecoraro/miniconda3/lib/python3.12/site-packages (from sympy==1.13.1->torch) (1.3.0)\n",
      "Requirement already satisfied: pillow!=8.3.*,>=5.3.0 in /research2/ajpecoraro/miniconda3/lib/python3.12/site-packages (from torchvision) (11.2.0)\n",
      "Requirement already satisfied: absl-py>=0.4 in /research2/ajpecoraro/miniconda3/lib/python3.12/site-packages (from tensorboard) (2.2.2)\n",
      "Requirement already satisfied: grpcio>=1.48.2 in /research2/ajpecoraro/miniconda3/lib/python3.12/site-packages (from tensorboard) (1.71.0)\n",
      "Requirement already satisfied: markdown>=2.6.8 in /research2/ajpecoraro/miniconda3/lib/python3.12/site-packages (from tensorboard) (3.7)\n",
      "Requirement already satisfied: packaging in /research2/ajpecoraro/miniconda3/lib/python3.12/site-packages (from tensorboard) (24.2)\n",
      "Requirement already satisfied: protobuf!=4.24.0,>=3.19.6 in /research2/ajpecoraro/miniconda3/lib/python3.12/site-packages (from tensorboard) (6.30.2)\n",
      "Requirement already satisfied: six>1.9 in /research2/ajpecoraro/miniconda3/lib/python3.12/site-packages (from tensorboard) (1.17.0)\n",
      "Requirement already satisfied: tensorboard-data-server<0.8.0,>=0.7.0 in /research2/ajpecoraro/miniconda3/lib/python3.12/site-packages (from tensorboard) (0.7.2)\n",
      "Requirement already satisfied: werkzeug>=1.0.1 in /research2/ajpecoraro/miniconda3/lib/python3.12/site-packages (from tensorboard) (3.1.3)\n",
      "Requirement already satisfied: MarkupSafe>=2.1.1 in /research2/ajpecoraro/miniconda3/lib/python3.12/site-packages (from werkzeug>=1.0.1->tensorboard) (3.0.2)\n",
      "Note: you may need to restart the kernel to use updated packages.\n"
     ]
    }
   ],
   "source": [
    "pip install GPUtil scikit-learn torch torchvision tensorboard"
   ]
  },
  {
   "cell_type": "code",
   "execution_count": 2,
   "metadata": {},
   "outputs": [],
   "source": [
    "import os\n",
    "import time\n",
    "import torch\n",
    "import torchvision\n",
    "import torch.nn as nn\n",
    "import torch.optim as optim\n",
    "import torchvision.transforms as transforms\n",
    "import torchvision.models as models\n",
    "import psutil\n",
    "import GPUtil\n",
    "import numpy as np\n",
    "from torch.utils.data import DataLoader, random_split, Dataset\n",
    "from sklearn.metrics import accuracy_score, precision_score, recall_score\n",
    "from torchvision import datasets, transforms\n",
    "from torch.utils.data import DataLoader, random_split\n",
    "\n",
    "%load_ext tensorboard"
   ]
  },
  {
   "cell_type": "code",
   "execution_count": 3,
   "metadata": {},
   "outputs": [],
   "source": [
    "# Define dataset class (assuming images are already extracted into folders)\n",
    "class MalwareDataset(Dataset):\n",
    "    def __init__(self, root_dir, transform=None):\n",
    "        self.root_dir = root_dir\n",
    "        self.transform = transform\n",
    "        self.classes = os.listdir(root_dir)\n",
    "        self.image_paths = []\n",
    "        self.labels = []\n",
    "        \n",
    "        for label, class_dir in enumerate(self.classes):\n",
    "            class_path = os.path.join(root_dir, class_dir)\n",
    "            for img_file in os.listdir(class_path):\n",
    "                self.image_paths.append(os.path.join(class_path, img_file))\n",
    "                self.labels.append(label)\n",
    "        \n",
    "    def __len__(self):\n",
    "        return len(self.image_paths)\n",
    "    \n",
    "    def __getitem__(self, idx):\n",
    "        image = self.images[idx]\n",
    "        label = self.labels[idx]\n",
    "    \n",
    "        if not isinstance(image, torch.Tensor):  # Ensure it's not already a tensor\n",
    "            image = transforms.ToTensor()(image)\n",
    "    \n",
    "        if self.transform:\n",
    "            image = self.transform(image)\n",
    "    \n",
    "        return image, label"
   ]
  },
  {
   "cell_type": "code",
   "execution_count": 4,
   "metadata": {},
   "outputs": [],
   "source": [
    "transform = transforms.Compose([\n",
    "    transforms.Grayscale(num_output_channels=1),  # Ensure 1 channel\n",
    "    transforms.Resize((224, 224)),  # Resize to match ResNet/DenseNet input\n",
    "    transforms.ToTensor(),\n",
    "    transforms.Normalize(mean=[0.5], std=[0.5])  # Adjust for single-channel images\n",
    "])"
   ]
  },
  {
   "cell_type": "code",
   "execution_count": 5,
   "metadata": {},
   "outputs": [],
   "source": [
    "# Load dataset\n",
    "dataset_path = \"./malimg_paper_dataset_imgs/\"\n",
    "dataset = datasets.ImageFolder(root=dataset_path, transform=transform)\n",
    "\n",
    "# Split into train/validation sets\n",
    "from torch.utils.data import DataLoader, random_split\n",
    "\n",
    "train_size = int(0.8 * len(dataset))\n",
    "val_size = len(dataset) - train_size\n",
    "train_dataset, val_dataset = random_split(dataset, [train_size, val_size])\n",
    "\n",
    "# Create DataLoaders\n",
    "batch_size = 32  # Adjust as needed\n",
    "train_loader = DataLoader(train_dataset, batch_size=batch_size, shuffle=True)\n",
    "val_loader = DataLoader(val_dataset, batch_size=batch_size, shuffle=False)"
   ]
  },
  {
   "cell_type": "code",
   "execution_count": 6,
   "metadata": {},
   "outputs": [],
   "source": [
    "# Define function to track resource usage\n",
    "def get_system_metrics():\n",
    "    return {\n",
    "        \"cpu_usage\": psutil.cpu_percent(),\n",
    "        \"memory_usage\": psutil.virtual_memory().percent,\n",
    "        \"disk_usage\": psutil.disk_usage('/').percent,\n",
    "        \"gpu_usage\": GPUtil.getGPUs()[0].load if torch.cuda.is_available() else None\n",
    "    }"
   ]
  },
  {
   "cell_type": "code",
   "execution_count": null,
   "metadata": {},
   "outputs": [
    {
     "name": "stdout",
     "output_type": "stream",
     "text": [
      "Training ResNet18...\n"
     ]
    },
    {
     "name": "stderr",
     "output_type": "stream",
     "text": [
      "/research2/ajpecoraro/miniconda3/lib/python3.12/site-packages/sklearn/metrics/_classification.py:1565: UndefinedMetricWarning: Precision is ill-defined and being set to 0.0 in labels with no predicted samples. Use `zero_division` parameter to control this behavior.\n",
      "  _warn_prf(average, modifier, f\"{metric.capitalize()} is\", len(result))\n"
     ]
    },
    {
     "name": "stdout",
     "output_type": "stream",
     "text": [
      "Epoch 1/10 | Train Loss: 0.2294 | Val Loss: 0.3740 | Accuracy: 0.8925 | Time: 39.19s\n"
     ]
    },
    {
     "name": "stderr",
     "output_type": "stream",
     "text": [
      "/research2/ajpecoraro/miniconda3/lib/python3.12/site-packages/sklearn/metrics/_classification.py:1565: UndefinedMetricWarning: Precision is ill-defined and being set to 0.0 in labels with no predicted samples. Use `zero_division` parameter to control this behavior.\n",
      "  _warn_prf(average, modifier, f\"{metric.capitalize()} is\", len(result))\n"
     ]
    },
    {
     "name": "stdout",
     "output_type": "stream",
     "text": [
      "Epoch 2/10 | Train Loss: 0.1182 | Val Loss: 0.1325 | Accuracy: 0.9599 | Time: 40.61s\n"
     ]
    },
    {
     "name": "stderr",
     "output_type": "stream",
     "text": [
      "/research2/ajpecoraro/miniconda3/lib/python3.12/site-packages/sklearn/metrics/_classification.py:1565: UndefinedMetricWarning: Precision is ill-defined and being set to 0.0 in labels with no predicted samples. Use `zero_division` parameter to control this behavior.\n",
      "  _warn_prf(average, modifier, f\"{metric.capitalize()} is\", len(result))\n"
     ]
    },
    {
     "name": "stdout",
     "output_type": "stream",
     "text": [
      "Epoch 3/10 | Train Loss: 0.1014 | Val Loss: 0.0715 | Accuracy: 0.9791 | Time: 48.16s\n"
     ]
    },
    {
     "name": "stderr",
     "output_type": "stream",
     "text": [
      "/research2/ajpecoraro/miniconda3/lib/python3.12/site-packages/sklearn/metrics/_classification.py:1565: UndefinedMetricWarning: Precision is ill-defined and being set to 0.0 in labels with no predicted samples. Use `zero_division` parameter to control this behavior.\n",
      "  _warn_prf(average, modifier, f\"{metric.capitalize()} is\", len(result))\n"
     ]
    },
    {
     "name": "stdout",
     "output_type": "stream",
     "text": [
      "Epoch 4/10 | Train Loss: 0.1118 | Val Loss: 0.1091 | Accuracy: 0.9658 | Time: 46.06s\n"
     ]
    },
    {
     "name": "stderr",
     "output_type": "stream",
     "text": [
      "/research2/ajpecoraro/miniconda3/lib/python3.12/site-packages/sklearn/metrics/_classification.py:1565: UndefinedMetricWarning: Precision is ill-defined and being set to 0.0 in labels with no predicted samples. Use `zero_division` parameter to control this behavior.\n",
      "  _warn_prf(average, modifier, f\"{metric.capitalize()} is\", len(result))\n"
     ]
    },
    {
     "name": "stdout",
     "output_type": "stream",
     "text": [
      "Epoch 5/10 | Train Loss: 0.0749 | Val Loss: 0.0679 | Accuracy: 0.9781 | Time: 38.41s\n"
     ]
    },
    {
     "name": "stderr",
     "output_type": "stream",
     "text": [
      "Epoch 6/10:  12%|████████████▊                                                                                              | 28/234 [00:03<00:29,  7.08it/s, loss=0.0691]"
     ]
    }
   ],
   "source": [
    "import torch\n",
    "import time\n",
    "import psutil\n",
    "import GPUtil\n",
    "from torch import nn, optim\n",
    "from torch.utils.tensorboard import SummaryWriter\n",
    "from torchvision.models import resnet18, ResNet18_Weights\n",
    "from torchvision.models import densenet121, DenseNet121_Weights\n",
    "from tqdm import tqdm\n",
    "from sklearn.metrics import accuracy_score, precision_score, recall_score, f1_score\n",
    "\n",
    "def get_system_metrics():\n",
    "    \"\"\"Collect CPU, memory, and GPU metrics.\"\"\"\n",
    "    cpu_usage = psutil.cpu_percent()\n",
    "    memory_usage = psutil.virtual_memory().percent\n",
    "\n",
    "    if torch.cuda.is_available():\n",
    "        gpu_memory = torch.cuda.memory_allocated() / (1024 ** 3)  # GB\n",
    "        gpus = GPUtil.getGPUs()\n",
    "        if gpus:\n",
    "            gpu = gpus[0]  # First GPU\n",
    "            gpu_utilization = gpu.memoryUtil * 100  # Memory utilization %\n",
    "            gpu_load = gpu.load * 100  # Compute load %\n",
    "        else:\n",
    "            gpu_utilization = gpu_load = 0.0\n",
    "        return cpu_usage, memory_usage, gpu_utilization, gpu_memory, gpu_load\n",
    "    else:\n",
    "        return cpu_usage, memory_usage, 0.0, 0.0, 0.0\n",
    "\n",
    "def train_model(model, train_loader, val_loader, epochs=10, lr=0.001, log_dir='runs/experiment'):\n",
    "    device = torch.device(\"cuda\" if torch.cuda.is_available() else \"cpu\")\n",
    "    model.to(device)\n",
    "    criterion = nn.CrossEntropyLoss()\n",
    "    optimizer = optim.Adam(model.parameters(), lr=lr)\n",
    "    writer = SummaryWriter(log_dir=log_dir)\n",
    "    global_step = 0\n",
    "\n",
    "    for epoch in range(epochs):\n",
    "        model.train()\n",
    "        train_loss = 0.0\n",
    "        epoch_start_time = time.time()\n",
    "\n",
    "        # Training loop with progress bar\n",
    "        progress_bar = tqdm(train_loader, desc=f\"Epoch {epoch+1}/{epochs}\", leave=False)\n",
    "        for batch_idx, (images, labels) in enumerate(progress_bar):\n",
    "            images, labels = images.to(device), labels.to(device)\n",
    "            \n",
    "            optimizer.zero_grad()\n",
    "            outputs = model(images)\n",
    "            loss = criterion(outputs, labels)\n",
    "            loss.backward()\n",
    "            optimizer.step()\n",
    "\n",
    "            train_loss += loss.item()\n",
    "            global_step += 1\n",
    "\n",
    "            # Log training loss every batch\n",
    "            writer.add_scalar(\"Loss/Train\", loss.item(), global_step)\n",
    "\n",
    "            # Log system metrics every 10 batches (adjustable)\n",
    "            if batch_idx % 10 == 0:\n",
    "                cpu, mem, gpu_util, gpu_mem, gpu_load = get_system_metrics()\n",
    "                writer.add_scalar(\"System/CPU_Usage\", cpu, global_step)\n",
    "                writer.add_scalar(\"System/Memory_Usage\", mem, global_step)\n",
    "                if torch.cuda.is_available():\n",
    "                    writer.add_scalar(\"GPU/Utilization\", gpu_util, global_step)\n",
    "                    writer.add_scalar(\"GPU/Memory_GB\", gpu_mem, global_step)\n",
    "                    writer.add_scalar(\"GPU/Load\", gpu_load, global_step)\n",
    "\n",
    "            progress_bar.set_postfix(loss=loss.item())\n",
    "\n",
    "        # Validation phase\n",
    "        model.eval()\n",
    "        val_loss = 0.0\n",
    "        all_preds, all_labels = [], []\n",
    "        with torch.no_grad():\n",
    "            for images, labels in val_loader:\n",
    "                images, labels = images.to(device), labels.to(device)\n",
    "                outputs = model(images)\n",
    "                loss = criterion(outputs, labels)\n",
    "                val_loss += loss.item()\n",
    "\n",
    "                # Collect predictions for metrics\n",
    "                _, preds = torch.max(outputs, 1)\n",
    "                all_preds.extend(preds.cpu().numpy())\n",
    "                all_labels.extend(labels.cpu().numpy())\n",
    "\n",
    "        # Compute metrics\n",
    "        avg_train_loss = train_loss / len(train_loader)\n",
    "        avg_val_loss = val_loss / len(val_loader)\n",
    "        val_accuracy = accuracy_score(all_labels, all_preds)\n",
    "        val_precision = precision_score(all_labels, all_preds, average='macro')\n",
    "        val_recall = recall_score(all_labels, all_preds, average='macro')\n",
    "        val_f1 = f1_score(all_labels, all_preds, average='macro')\n",
    "\n",
    "        # Log epoch-level metrics\n",
    "        writer.add_scalar(\"Loss/Validation\", avg_val_loss, epoch)\n",
    "        writer.add_scalar(\"Metrics/Accuracy\", val_accuracy, epoch)\n",
    "        writer.add_scalar(\"Metrics/Precision\", val_precision, epoch)\n",
    "        writer.add_scalar(\"Metrics/Recall\", val_recall, epoch)\n",
    "        writer.add_scalar(\"Metrics/F1\", val_f1, epoch)\n",
    "\n",
    "        # Print epoch summary\n",
    "        epoch_time = time.time() - epoch_start_time\n",
    "        print(f\"Epoch {epoch+1}/{epochs} | \"\n",
    "              f\"Train Loss: {avg_train_loss:.4f} | \"\n",
    "              f\"Val Loss: {avg_val_loss:.4f} | \"\n",
    "              f\"Accuracy: {val_accuracy:.4f} | \"\n",
    "              f\"Time: {epoch_time:.2f}s\")\n",
    "\n",
    "    writer.close()\n",
    "\n",
    "# Example usage with ResNet/DenseNet (modify dataset.classes as needed)\n",
    "if __name__ == \"__main__\":\n",
    "    # Example dataset setup (replace with your actual dataset)\n",
    "    # dataset = YourDataset(...)\n",
    "    # train_loader = DataLoader(...)\n",
    "    # val_loader = DataLoader(...)\n",
    "\n",
    "    # ResNet18 (grayscale adaptation)\n",
    "    resnet = resnet18(weights=ResNet18_Weights.DEFAULT)\n",
    "    resnet.conv1 = nn.Conv2d(1, 64, kernel_size=7, stride=2, padding=3, bias=False)\n",
    "    resnet.fc = nn.Linear(resnet.fc.in_features, len(dataset.classes))  # Replace dataset.classes\n",
    "\n",
    "    # DenseNet121 (grayscale adaptation)\n",
    "    densenet = densenet121(weights=DenseNet121_Weights.DEFAULT)\n",
    "    densenet.features.conv0 = nn.Conv2d(1, 64, kernel_size=7, stride=2, padding=3, bias=False)\n",
    "    densenet.classifier = nn.Linear(densenet.classifier.in_features, len(dataset.classes))  # Replace dataset.classes\n",
    "\n",
    "    print(\"Training ResNet18...\")\n",
    "    train_model(resnet, train_loader, val_loader, epochs=10, log_dir='runs/resnet')\n",
    "\n",
    "    print(\"Training DenseNet121...\")\n",
    "    train_model(densenet, train_loader, val_loader, epochs=10, log_dir='runs/densenet')"
   ]
  },
  {
   "cell_type": "code",
   "execution_count": null,
   "metadata": {},
   "outputs": [],
   "source": [
    "%load_ext tensorboard\n",
    "%tensorboard --logdir runs"
   ]
  }
 ],
 "metadata": {
  "kernelspec": {
   "display_name": "Python 3 (ipykernel)",
   "language": "python",
   "name": "python3"
  },
  "language_info": {
   "codemirror_mode": {
    "name": "ipython",
    "version": 3
   },
   "file_extension": ".py",
   "mimetype": "text/x-python",
   "name": "python",
   "nbconvert_exporter": "python",
   "pygments_lexer": "ipython3",
   "version": "3.12.9"
  }
 },
 "nbformat": 4,
 "nbformat_minor": 4
}
